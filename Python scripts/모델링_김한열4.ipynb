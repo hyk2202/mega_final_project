{
 "cells": [
  {
   "cell_type": "code",
   "execution_count": 2,
   "metadata": {},
   "outputs": [
    {
     "name": "stderr",
     "output_type": "stream",
     "text": [
      "[nltk_data] Downloading package stopwords to\n",
      "[nltk_data]     C:\\Users\\hyk\\AppData\\Roaming\\nltk_data...\n",
      "[nltk_data]   Package stopwords is already up-to-date!\n"
     ]
    }
   ],
   "source": [
    "# pip install --upgrade git+https://github.com/hyk2202/helper.git\n",
    "\n",
    "import pandas as pd\n",
    "from helper.util import *\n",
    "from helper.analysis import *\n",
    "from helper.tensor import *\n",
    "from helper.plot import *\n",
    "from helper.timeserise import *\n",
    "from helper.core import *\n",
    "from helper.classification import *\n",
    "from helper.re import *\n",
    "from helper.regression import *"
   ]
  },
  {
   "cell_type": "code",
   "execution_count": 3,
   "metadata": {},
   "outputs": [],
   "source": [
    "origin = my_read_data('데이터_전처리_최종.xlsx',info=False, index_col='IDX')"
   ]
  },
  {
   "cell_type": "code",
   "execution_count": 152,
   "metadata": {},
   "outputs": [
    {
     "data": {
      "text/plain": [
       "Index(['발생날짜', '요일', '공휴일여부', '오전오후', '시간대', '시간', '사고인지 시간', '공공/민간 구분', '날씨',\n",
       "       '기온', '습도', '인적사고', '보호(방호)조치여부 - 안전방호', '보호(방호)조치여부 - 개인방호', '공종_대분류',\n",
       "       '공종_중분류', '사고객체_대분류', '사고객체_중분류', '작업프로세스', '장소_대분류', '장소_중분류',\n",
       "       '부위_대분류', '부위_중분류', '사고원인_주원인', '사상자수', '사고신고사유_부상', '사고신고사유_사망',\n",
       "       '사고신고사유_물적', '시', '전체공사비', '전체공사비_분류', '해당공종_공사비', '구체적 사고원인',\n",
       "       '사고발생후 조치사항', '공사기간_시작일', '공사기간_종료일', '공종_시작일', '공종_종료일', '재발방지대책',\n",
       "       '공정률', '안전관리계획', '설계안전성검토', '작업자수', '지점 번호', '관측소', '기온.1', '강수량', '풍속',\n",
       "       '풍향', '습도.1', '증기압', '이슬점온도', '현지기압', '해면기압', '일조', '전운량', '중하층운량',\n",
       "       '시정', '지면온도'],\n",
       "      dtype='object')"
      ]
     },
     "execution_count": 152,
     "metadata": {},
     "output_type": "execute_result"
    }
   ],
   "source": [
    "df = origin.copy()\n",
    "df.columns"
   ]
  },
  {
   "cell_type": "code",
   "execution_count": 153,
   "metadata": {},
   "outputs": [
    {
     "data": {
      "text/plain": [
       "발생날짜                 datetime64[ns]\n",
       "요일                           object\n",
       "공휴일여부                        object\n",
       "오전오후                         object\n",
       "시간대                           int64\n",
       "시간                           object\n",
       "사고인지 시간                      object\n",
       "공공/민간 구분                     object\n",
       "날씨                           object\n",
       "기온                           object\n",
       "습도                          float64\n",
       "인적사고                         object\n",
       "보호(방호)조치여부 - 안전방호            object\n",
       "보호(방호)조치여부 - 개인방호            object\n",
       "공종_대분류                       object\n",
       "공종_중분류                       object\n",
       "사고객체_대분류                     object\n",
       "사고객체_중분류                     object\n",
       "작업프로세스                       object\n",
       "장소_대분류                       object\n",
       "장소_중분류                       object\n",
       "부위_대분류                       object\n",
       "부위_중분류                       object\n",
       "사고원인_주원인                     object\n",
       "사상자수                          int64\n",
       "사고신고사유_부상                    object\n",
       "사고신고사유_사망                    object\n",
       "사고신고사유_물적                    object\n",
       "시                            object\n",
       "전체공사비                        object\n",
       "전체공사비_분류                     object\n",
       "해당공종_공사비                     object\n",
       "구체적 사고원인                     object\n",
       "사고발생후 조치사항                   object\n",
       "공사기간_시작일                     object\n",
       "공사기간_종료일                     object\n",
       "공종_시작일                       object\n",
       "공종_종료일                       object\n",
       "재발방지대책                       object\n",
       "공정률                          object\n",
       "안전관리계획                       object\n",
       "설계안전성검토                      object\n",
       "작업자수                         object\n",
       "지점 번호                         int64\n",
       "관측소                          object\n",
       "기온.1                        float64\n",
       "강수량                         float64\n",
       "풍속                          float64\n",
       "풍향                          float64\n",
       "습도.1                        float64\n",
       "증기압                         float64\n",
       "이슬점온도                       float64\n",
       "현지기압                        float64\n",
       "해면기압                        float64\n",
       "일조                          float64\n",
       "전운량                         float64\n",
       "중하층운량                       float64\n",
       "시정                          float64\n",
       "지면온도                        float64\n",
       "dtype: object"
      ]
     },
     "execution_count": 153,
     "metadata": {},
     "output_type": "execute_result"
    }
   ],
   "source": [
    "df.dtypes"
   ]
  },
  {
   "cell_type": "code",
   "execution_count": 154,
   "metadata": {},
   "outputs": [
    {
     "data": {
      "text/plain": [
       "넘어짐       5814\n",
       "떨어짐       4321\n",
       "물체에 맞음    3509\n",
       "끼임        2576\n",
       "분류불능      2152\n",
       "부딪힘       1850\n",
       "절단, 베임    1688\n",
       "깔림         521\n",
       "질병         381\n",
       "찔림         307\n",
       "화상         186\n",
       "교통사고       123\n",
       "감전          48\n",
       "질식          18\n",
       "Name: 인적사고, dtype: int64"
      ]
     },
     "execution_count": 154,
     "metadata": {},
     "output_type": "execute_result"
    }
   ],
   "source": [
    "temp = []\n",
    "for i in df['인적사고']:\n",
    "    if i == '기타':temp.append('분류불능')\n",
    "    elif i == '없음':temp.append(None)\n",
    "    else:temp.append(i)\n",
    "\n",
    "df['인적사고'] = temp\n",
    "df['인적사고'].value_counts()"
   ]
  },
  {
   "cell_type": "code",
   "execution_count": 155,
   "metadata": {},
   "outputs": [],
   "source": [
    "temp =[]\n",
    "for i in df['강수량']:\n",
    "    if i>=0.1 : temp.append(1)\n",
    "    else:temp.append(0)\n"
   ]
  },
  {
   "cell_type": "code",
   "execution_count": 156,
   "metadata": {},
   "outputs": [
    {
     "data": {
      "text/plain": [
       "1    18032\n",
       "0     3167\n",
       "2     2523\n",
       "Name: 사고인지 시간, dtype: int64"
      ]
     },
     "execution_count": 156,
     "metadata": {},
     "output_type": "execute_result"
    }
   ],
   "source": [
    "# 결측치 : 0 정규작업 :1 그외: 2\n",
    "\n",
    "temp = []\n",
    "for i in df['사고인지 시간'].fillna(0):\n",
    "    if i == 0 : temp.append(0)\n",
    "    elif i == '정규작업 ': temp.append(1)\n",
    "    else:temp.append(2)\n",
    "\n",
    "df['사고인지 시간'] = temp\n",
    "df['사고인지 시간'].value_counts()"
   ]
  },
  {
   "cell_type": "code",
   "execution_count": 157,
   "metadata": {},
   "outputs": [
    {
     "data": {
      "text/plain": [
       "1    17153\n",
       "0     5411\n",
       "2     1158\n",
       "Name: 보호(방호)조치여부 - 안전방호, dtype: int64"
      ]
     },
     "execution_count": 157,
     "metadata": {},
     "output_type": "execute_result"
    }
   ],
   "source": [
    "# 결측치 : 0, 조치/해당없음:1, 비조치:2\n",
    "\n",
    "temp = []\n",
    "for i in df[\"보호(방호)조치여부 - 안전방호\"].fillna(0):\n",
    "    if i == 0 :temp.append(0)\n",
    "    elif i == '비조치': temp.append(2)\n",
    "    else:temp.append(1)\n",
    "df[\"보호(방호)조치여부 - 안전방호\"] =temp\n",
    "\n",
    "\n",
    "df[\"보호(방호)조치여부 - 안전방호\"].value_counts()"
   ]
  },
  {
   "cell_type": "code",
   "execution_count": 158,
   "metadata": {},
   "outputs": [
    {
     "data": {
      "text/plain": [
       "1    17455\n",
       "0     5410\n",
       "2      857\n",
       "Name: 보호(방호)조치여부 - 개인방호, dtype: int64"
      ]
     },
     "execution_count": 158,
     "metadata": {},
     "output_type": "execute_result"
    }
   ],
   "source": [
    "# 결측치 : 0, 조치/해당없음:1, 비조치:2\n",
    "\n",
    "temp = []\n",
    "for i in df[\"보호(방호)조치여부 - 개인방호\"].fillna(0):\n",
    "    if i == 0 :temp.append(0)\n",
    "    elif i == '비조치': temp.append(2)\n",
    "    else:temp.append(1)\n",
    "df[\"보호(방호)조치여부 - 개인방호\"] =temp\n",
    "\n",
    "\n",
    "df[\"보호(방호)조치여부 - 개인방호\"].value_counts()"
   ]
  },
  {
   "cell_type": "code",
   "execution_count": 159,
   "metadata": {},
   "outputs": [],
   "source": [
    "# 통신설비, 산업설비, 전기설비 => 기타\n",
    "temp = []\n",
    "for i in df['공종_대분류']:\n",
    "    if i in ['통신설비','산업설비','전기설비']:temp.append('기타')\n",
    "    else:temp.append(i)\n",
    "df['공종_대분류'] =temp"
   ]
  },
  {
   "cell_type": "code",
   "execution_count": 160,
   "metadata": {},
   "outputs": [],
   "source": [
    "# 비조치 :2 , 조치,해당없음 : 1 ,결측치 : 0\n",
    "temp = []\n",
    "for i in origin[\"작업프로세스\"]:\n",
    "    if i == '비조치': temp.append(2)\n",
    "    elif i ==0:temp.append(1)\n",
    "    else:temp.append(0)"
   ]
  },
  {
   "cell_type": "code",
   "execution_count": 161,
   "metadata": {},
   "outputs": [],
   "source": [
    "#노동부고시 제2002-8호, 『화학물질 및 물리적인자의 노출기준』 중 <별표 4>의 고온의 노출기준\n",
    "temp = []\n",
    "for i in origin['지면온도']:\n",
    "    if i <25.0: temp.append(0)\n",
    "    elif i <25.9:temp.append(1)\n",
    "    elif i<27.9:temp.append(2)\n",
    "    elif i <30:temp.append(3)\n",
    "    else:temp.append(4)\n",
    "df['지면온도'] = temp"
   ]
  },
  {
   "cell_type": "code",
   "execution_count": 162,
   "metadata": {},
   "outputs": [],
   "source": [
    "def daynight(x):\n",
    "    if x < 6:\n",
    "        return 0\n",
    "    elif x <= 18:\n",
    "        return 1\n",
    "    else:\n",
    "        return 0"
   ]
  },
  {
   "cell_type": "code",
   "execution_count": 163,
   "metadata": {},
   "outputs": [
    {
     "data": {
      "text/plain": [
       "Index(['발생날짜', '요일', '공휴일여부', '오전오후', '시간대', '시간', '사고인지 시간', '공공/민간 구분', '날씨',\n",
       "       '기온', '습도', '인적사고', '보호(방호)조치여부 - 안전방호', '보호(방호)조치여부 - 개인방호', '공종_대분류',\n",
       "       '공종_중분류', '사고객체_대분류', '사고객체_중분류', '작업프로세스', '장소_대분류', '장소_중분류',\n",
       "       '부위_대분류', '부위_중분류', '사고원인_주원인', '사상자수', '사고신고사유_부상', '사고신고사유_사망',\n",
       "       '사고신고사유_물적', '시', '전체공사비', '전체공사비_분류', '해당공종_공사비', '구체적 사고원인',\n",
       "       '사고발생후 조치사항', '공사기간_시작일', '공사기간_종료일', '공종_시작일', '공종_종료일', '재발방지대책',\n",
       "       '공정률', '안전관리계획', '설계안전성검토', '작업자수', '지점 번호', '관측소', '기온.1', '강수량', '풍속',\n",
       "       '풍향', '습도.1', '증기압', '이슬점온도', '현지기압', '해면기압', '일조', '전운량', '중하층운량',\n",
       "       '시정', '지면온도'],\n",
       "      dtype='object')"
      ]
     },
     "execution_count": 163,
     "metadata": {},
     "output_type": "execute_result"
    }
   ],
   "source": [
    "df.columns"
   ]
  },
  {
   "cell_type": "code",
   "execution_count": 164,
   "metadata": {},
   "outputs": [],
   "source": [
    "df['분기'] = df['발생날짜'].dt.quarter.astype('float')\n",
    "df['월'] = df['발생날짜'].dt.month.astype('float')\n",
    "df['주야간'] = df['시간대'].apply(daynight)\n",
    "df['시간대'] = df['시간대'].astype('float')"
   ]
  },
  {
   "cell_type": "code",
   "execution_count": 165,
   "metadata": {},
   "outputs": [
    {
     "data": {
      "text/plain": [
       "IDX\n",
       "0        2.0\n",
       "1        2.0\n",
       "2        2.0\n",
       "3        2.0\n",
       "4        2.0\n",
       "        ... \n",
       "23717    3.0\n",
       "23718    3.0\n",
       "23719    1.0\n",
       "23720    3.0\n",
       "23721    3.0\n",
       "Name: 분기, Length: 23722, dtype: float64"
      ]
     },
     "execution_count": 165,
     "metadata": {},
     "output_type": "execute_result"
    }
   ],
   "source": [
    "df['분기']"
   ]
  },
  {
   "cell_type": "code",
   "execution_count": 166,
   "metadata": {},
   "outputs": [
    {
     "data": {
      "text/plain": [
       "Index(['발생날짜', '요일', '공휴일여부', '오전오후', '시간대', '시간', '사고인지 시간', '공공/민간 구분', '날씨',\n",
       "       '기온', '습도', '인적사고', '보호(방호)조치여부 - 안전방호', '보호(방호)조치여부 - 개인방호', '공종_대분류',\n",
       "       '공종_중분류', '사고객체_대분류', '사고객체_중분류', '작업프로세스', '장소_대분류', '장소_중분류',\n",
       "       '부위_대분류', '부위_중분류', '사고원인_주원인', '사상자수', '사고신고사유_부상', '사고신고사유_사망',\n",
       "       '사고신고사유_물적', '시', '전체공사비', '전체공사비_분류', '해당공종_공사비', '구체적 사고원인',\n",
       "       '사고발생후 조치사항', '공사기간_시작일', '공사기간_종료일', '공종_시작일', '공종_종료일', '재발방지대책',\n",
       "       '공정률', '안전관리계획', '설계안전성검토', '작업자수', '지점 번호', '관측소', '기온.1', '강수량', '풍속',\n",
       "       '풍향', '습도.1', '증기압', '이슬점온도', '현지기압', '해면기압', '일조', '전운량', '중하층운량',\n",
       "       '시정', '지면온도', '분기', '월', '주야간', '총_공사기간', '공종공사기간'],\n",
       "      dtype='object')"
      ]
     },
     "execution_count": 166,
     "metadata": {},
     "output_type": "execute_result"
    }
   ],
   "source": [
    "import pandas as pd\n",
    "\n",
    "df['총_공사기간'] = (pd.to_datetime(df['공사기간_종료일']) - pd.to_datetime(df['공사기간_시작일'])).dt.days\n",
    "df['공종공사기간'] = (pd.to_datetime(df['공종_종료일']) - pd.to_datetime(df['공종_시작일'])).dt.days\n",
    "df.columns"
   ]
  },
  {
   "cell_type": "code",
   "execution_count": 167,
   "metadata": {},
   "outputs": [],
   "source": [
    "df.drop(['발생날짜','지점 번호','관측소'],axis=1,inplace=True)"
   ]
  },
  {
   "cell_type": "code",
   "execution_count": 168,
   "metadata": {},
   "outputs": [
    {
     "data": {
      "text/plain": [
       "4    15759\n",
       "2     3961\n",
       "3     3654\n",
       "1      228\n",
       "0      120\n",
       "Name: 전체공사비_분류, dtype: int64"
      ]
     },
     "execution_count": 168,
     "metadata": {},
     "output_type": "execute_result"
    }
   ],
   "source": [
    "df['전체공사비_분류'] = df['전체공사비_분류'].map({'2,000만 ~ 5억원 미만':2, '2,000만 미만':1, '50억원 이상':4, '5억 ~ 50억원 미만':3, '분류불능':0})\n",
    "df['전체공사비_분류'].value_counts()"
   ]
  },
  {
   "cell_type": "code",
   "execution_count": 169,
   "metadata": {},
   "outputs": [],
   "source": [
    "temp = []\n",
    "for i in df['작업자수']:\n",
    "    try:\n",
    "        a = int(i[:3])\n",
    "        if a == 100: temp.append(4)\n",
    "        elif a == 300: temp.append(5)\n",
    "        elif a == 500: temp.append(6)\n",
    "\n",
    "    except:\n",
    "        a = int(i[:2])\n",
    "        if a ==19:temp.append(0)\n",
    "        elif a == 20 :temp.append(1)\n",
    "        elif a==50:temp.append(2)\n",
    "df['작업자수'] = temp\n"
   ]
  },
  {
   "cell_type": "code",
   "execution_count": 170,
   "metadata": {},
   "outputs": [],
   "source": [
    "temp = []\n",
    "for i in origin['공정률']:\n",
    "    try:\n",
    "        if '미만' in i : temp.append(0)\n",
    "        elif '이상' in i: temp.append(9)\n",
    "        else:\n",
    "            temp.append(int(i[:1]))\n",
    "    except:\n",
    "        \n",
    "        temp.append(0)\n",
    "\n",
    "df['공정률'] = temp"
   ]
  },
  {
   "cell_type": "code",
   "execution_count": 171,
   "metadata": {},
   "outputs": [],
   "source": [
    "df.dtypes\n",
    "\n",
    "    \n",
    "fields=[]\n",
    "for f in df.columns:\n",
    "    if df[f].dtypes not in [\n",
    "        \"int\",\n",
    "        \"int32\",\n",
    "        \"int64\",\n",
    "        \"float\",\n",
    "        \"float32\",\n",
    "        \"float64\",\n",
    "    ]:\n",
    "        fields.append(f)"
   ]
  },
  {
   "cell_type": "code",
   "execution_count": 172,
   "metadata": {},
   "outputs": [],
   "source": [
    "cate = df[fields]\n",
    "df2 = df.drop(fields,axis=1)"
   ]
  },
  {
   "cell_type": "code",
   "execution_count": 173,
   "metadata": {},
   "outputs": [],
   "source": [
    "df2 = my_replace_missing_value(df2,'constant',0)\n",
    "cate = my_replace_missing_value(cate,'constant','기타')"
   ]
  },
  {
   "cell_type": "code",
   "execution_count": 174,
   "metadata": {},
   "outputs": [],
   "source": [
    "fields.remove('공사기간_시작일')\n",
    "fields.remove('공사기간_종료일')\n",
    "fields.remove('공종_시작일')\n",
    "fields.remove('공종_종료일')\n",
    "fields.remove('구체적 사고원인')\n",
    "fields.remove('사고발생후 조치사항')\n",
    "fields.remove('재발방지대책')"
   ]
  },
  {
   "cell_type": "code",
   "execution_count": 175,
   "metadata": {},
   "outputs": [],
   "source": [
    "drop_fields = ['시간대','습도']"
   ]
  },
  {
   "cell_type": "code",
   "execution_count": 176,
   "metadata": {},
   "outputs": [
    {
     "data": {
      "text/plain": [
       "Index(['시간대', '사고인지 시간', '습도', '보호(방호)조치여부 - 안전방호', '보호(방호)조치여부 - 개인방호',\n",
       "       '사상자수', '전체공사비_분류', '공정률', '작업자수', '기온.1', '강수량', '풍속', '풍향', '습도.1',\n",
       "       '증기압', '이슬점온도', '현지기압', '해면기압', '일조', '전운량', '중하층운량', '시정', '지면온도',\n",
       "       '분기', '월', '주야간', '총_공사기간', '공종공사기간'],\n",
       "      dtype='object')"
      ]
     },
     "execution_count": 176,
     "metadata": {},
     "output_type": "execute_result"
    }
   ],
   "source": [
    "df2.columns"
   ]
  },
  {
   "cell_type": "code",
   "execution_count": 177,
   "metadata": {},
   "outputs": [],
   "source": [
    "cate = cate[fields]"
   ]
  },
  {
   "cell_type": "code",
   "execution_count": 178,
   "metadata": {},
   "outputs": [],
   "source": [
    "drop_cols = ['기온', '습도', '구체적 사고원인', '사고발생후 조치사항', '재발방지대책', '공사기간_시작일', '공사기간_종료일', '공종_시작일',\n",
    "             '공종_종료일', '관측소', '시간', '발생날짜', '지점 번호', '전체공사비_분류']"
   ]
  },
  {
   "cell_type": "code",
   "execution_count": 179,
   "metadata": {},
   "outputs": [
    {
     "data": {
      "text/plain": [
       "['습도', '전체공사비_분류']"
      ]
     },
     "execution_count": 179,
     "metadata": {},
     "output_type": "execute_result"
    }
   ],
   "source": [
    "drop_cols = [x for x in drop_cols if x in df2.columns]\n",
    "drop_cols"
   ]
  },
  {
   "cell_type": "code",
   "execution_count": 180,
   "metadata": {},
   "outputs": [
    {
     "data": {
      "text/plain": [
       "시간대                  float64\n",
       "사고인지 시간              float64\n",
       "보호(방호)조치여부 - 안전방호    float64\n",
       "보호(방호)조치여부 - 개인방호    float64\n",
       "사상자수                 float64\n",
       "공정률                  float64\n",
       "작업자수                 float64\n",
       "기온.1                 float64\n",
       "강수량                  float64\n",
       "풍속                   float64\n",
       "풍향                   float64\n",
       "습도.1                 float64\n",
       "증기압                  float64\n",
       "이슬점온도                float64\n",
       "현지기압                 float64\n",
       "해면기압                 float64\n",
       "일조                   float64\n",
       "전운량                  float64\n",
       "중하층운량                float64\n",
       "시정                   float64\n",
       "지면온도                 float64\n",
       "분기                   float64\n",
       "월                    float64\n",
       "주야간                  float64\n",
       "총_공사기간               float64\n",
       "공종공사기간               float64\n",
       "요일                    object\n",
       "공휴일여부                 object\n",
       "오전오후                  object\n",
       "시간                    object\n",
       "공공/민간 구분              object\n",
       "날씨                    object\n",
       "기온                    object\n",
       "인적사고                  object\n",
       "공종_대분류                object\n",
       "공종_중분류                object\n",
       "사고객체_대분류              object\n",
       "사고객체_중분류              object\n",
       "작업프로세스                object\n",
       "장소_대분류                object\n",
       "장소_중분류                object\n",
       "부위_대분류                object\n",
       "부위_중분류                object\n",
       "사고원인_주원인              object\n",
       "사고신고사유_부상             object\n",
       "사고신고사유_사망             object\n",
       "사고신고사유_물적             object\n",
       "시                     object\n",
       "전체공사비                 object\n",
       "해당공종_공사비              object\n",
       "안전관리계획                object\n",
       "설계안전성검토               object\n",
       "dtype: object"
      ]
     },
     "execution_count": 180,
     "metadata": {},
     "output_type": "execute_result"
    }
   ],
   "source": [
    "df2 = df2.drop(drop_cols,axis=1)\n",
    "df2[fields]=cate\n",
    "df2.dtypes\n",
    "# fields.remove('인적사고')\n"
   ]
  },
  {
   "cell_type": "code",
   "execution_count": 181,
   "metadata": {},
   "outputs": [],
   "source": [
    "df2 = df2.dropna()"
   ]
  },
  {
   "cell_type": "code",
   "execution_count": 182,
   "metadata": {},
   "outputs": [],
   "source": [
    "df2 = df2[df2['인적사고'] != '0'].dropna()"
   ]
  },
  {
   "cell_type": "code",
   "execution_count": 183,
   "metadata": {},
   "outputs": [
    {
     "data": {
      "text/plain": [
       "['요일',\n",
       " '공휴일여부',\n",
       " '오전오후',\n",
       " '시간',\n",
       " '공공/민간 구분',\n",
       " '날씨',\n",
       " '기온',\n",
       " '인적사고',\n",
       " '공종_대분류',\n",
       " '공종_중분류',\n",
       " '사고객체_대분류',\n",
       " '사고객체_중분류',\n",
       " '작업프로세스',\n",
       " '장소_대분류',\n",
       " '장소_중분류',\n",
       " '부위_대분류',\n",
       " '부위_중분류',\n",
       " '사고원인_주원인',\n",
       " '사고신고사유_부상',\n",
       " '사고신고사유_사망',\n",
       " '사고신고사유_물적',\n",
       " '시',\n",
       " '전체공사비',\n",
       " '해당공종_공사비',\n",
       " '안전관리계획',\n",
       " '설계안전성검토']"
      ]
     },
     "execution_count": 183,
     "metadata": {},
     "output_type": "execute_result"
    }
   ],
   "source": [
    "fields = [x for x in fields if x in df2.columns]\n",
    "fields"
   ]
  },
  {
   "cell_type": "code",
   "execution_count": 184,
   "metadata": {},
   "outputs": [
    {
     "data": {
      "text/plain": [
       "Index(['시간대', '사고인지 시간', '보호(방호)조치여부 - 안전방호', '보호(방호)조치여부 - 개인방호', '사상자수',\n",
       "       '공정률', '작업자수', '기온.1', '강수량', '풍속', '풍향', '습도.1', '증기압', '이슬점온도',\n",
       "       '현지기압', '해면기압', '일조', '전운량', '중하층운량', '시정', '지면온도', '분기', '월', '주야간',\n",
       "       '총_공사기간', '공종공사기간', '요일', '공휴일여부', '오전오후', '시간', '공공/민간 구분', '날씨', '기온',\n",
       "       '인적사고', '공종_대분류', '공종_중분류', '사고객체_대분류', '사고객체_중분류', '작업프로세스', '장소_대분류',\n",
       "       '장소_중분류', '부위_대분류', '부위_중분류', '사고원인_주원인', '사고신고사유_부상', '사고신고사유_사망',\n",
       "       '사고신고사유_물적', '시', '전체공사비', '해당공종_공사비', '안전관리계획', '설계안전성검토'],\n",
       "      dtype='object')"
      ]
     },
     "execution_count": 184,
     "metadata": {},
     "output_type": "execute_result"
    }
   ],
   "source": [
    "df2.columns"
   ]
  },
  {
   "cell_type": "code",
   "execution_count": 185,
   "metadata": {},
   "outputs": [
    {
     "data": {
      "text/plain": [
       "비대상    15212\n",
       "대상      8313\n",
       "기타         1\n",
       "Name: 설계안전성검토, dtype: int64"
      ]
     },
     "execution_count": 185,
     "metadata": {},
     "output_type": "execute_result"
    }
   ],
   "source": [
    "df2['설계안전성검토'].value_counts()"
   ]
  },
  {
   "cell_type": "code",
   "execution_count": 186,
   "metadata": {},
   "outputs": [
    {
     "data": {
      "text/plain": [
       "시간대                  float64\n",
       "사고인지 시간              float64\n",
       "보호(방호)조치여부 - 안전방호    float64\n",
       "보호(방호)조치여부 - 개인방호    float64\n",
       "사상자수                 float64\n",
       "공정률                  float64\n",
       "작업자수                 float64\n",
       "기온.1                 float64\n",
       "강수량                  float64\n",
       "풍속                   float64\n",
       "풍향                   float64\n",
       "습도.1                 float64\n",
       "증기압                  float64\n",
       "이슬점온도                float64\n",
       "현지기압                 float64\n",
       "해면기압                 float64\n",
       "일조                   float64\n",
       "전운량                  float64\n",
       "중하층운량                float64\n",
       "시정                   float64\n",
       "지면온도                 float64\n",
       "분기                   float64\n",
       "월                    float64\n",
       "주야간                  float64\n",
       "총_공사기간               float64\n",
       "공종공사기간               float64\n",
       "요일                    object\n",
       "공휴일여부                 object\n",
       "오전오후                  object\n",
       "시간                    object\n",
       "공공/민간 구분              object\n",
       "날씨                    object\n",
       "기온                    object\n",
       "인적사고                  object\n",
       "공종_대분류                object\n",
       "공종_중분류                object\n",
       "사고객체_대분류              object\n",
       "사고객체_중분류              object\n",
       "작업프로세스                object\n",
       "장소_대분류                object\n",
       "장소_중분류                object\n",
       "부위_대분류                object\n",
       "부위_중분류                object\n",
       "사고원인_주원인              object\n",
       "사고신고사유_부상             object\n",
       "사고신고사유_사망             object\n",
       "사고신고사유_물적             object\n",
       "시                     object\n",
       "전체공사비                 object\n",
       "해당공종_공사비              object\n",
       "안전관리계획                object\n",
       "설계안전성검토               object\n",
       "dtype: object"
      ]
     },
     "execution_count": 186,
     "metadata": {},
     "output_type": "execute_result"
    }
   ],
   "source": [
    "df2.dtypes"
   ]
  },
  {
   "cell_type": "code",
   "execution_count": 187,
   "metadata": {},
   "outputs": [
    {
     "data": {
      "text/plain": [
       "Index(['시간대', '사고인지 시간', '보호(방호)조치여부 - 안전방호', '보호(방호)조치여부 - 개인방호', '사상자수',\n",
       "       '공정률', '작업자수', '기온.1', '강수량', '풍속', '풍향', '습도.1', '증기압', '이슬점온도',\n",
       "       '현지기압', '해면기압', '일조', '전운량', '중하층운량', '시정', '지면온도', '분기', '월', '주야간',\n",
       "       '총_공사기간', '공종공사기간', '요일', '공휴일여부', '오전오후', '시간', '공공/민간 구분', '날씨', '기온',\n",
       "       '인적사고', '공종_대분류', '공종_중분류', '사고객체_대분류', '사고객체_중분류', '작업프로세스', '장소_대분류',\n",
       "       '장소_중분류', '부위_대분류', '부위_중분류', '사고원인_주원인', '사고신고사유_부상', '사고신고사유_사망',\n",
       "       '사고신고사유_물적', '시', '전체공사비', '해당공종_공사비', '안전관리계획', '설계안전성검토'],\n",
       "      dtype='object')"
      ]
     },
     "execution_count": 187,
     "metadata": {},
     "output_type": "execute_result"
    }
   ],
   "source": [
    "df2.columns"
   ]
  },
  {
   "cell_type": "code",
   "execution_count": 188,
   "metadata": {},
   "outputs": [
    {
     "name": "stdout",
     "output_type": "stream",
     "text": [
      "요일 7\n",
      "공휴일여부 2\n",
      "오전오후 2\n",
      "시간 792\n",
      "공공/민간 구분 3\n",
      "날씨 6\n",
      "기온 591\n",
      "인적사고 15\n",
      "공종_대분류 4\n",
      "공종_중분류 39\n",
      "사고객체_대분류 9\n",
      "사고객체_중분류 54\n",
      "작업프로세스 34\n",
      "장소_대분류 37\n",
      "장소_중분류 6\n",
      "부위_대분류 54\n",
      "부위_중분류 10\n",
      "사고원인_주원인 29\n",
      "사고신고사유_부상 2\n",
      "사고신고사유_사망 2\n",
      "사고신고사유_물적 2\n",
      "시 18\n",
      "전체공사비 18\n",
      "해당공종_공사비 19\n",
      "안전관리계획 4\n",
      "설계안전성검토 3\n"
     ]
    }
   ],
   "source": [
    "for i in df2.columns:\n",
    "    if df2[i].dtypes not in ['float64','float32','float']:\n",
    "        print(i,df2[i].nunique())\n",
    "    "
   ]
  },
  {
   "cell_type": "code",
   "execution_count": 189,
   "metadata": {},
   "outputs": [],
   "source": [
    "\n",
    "\n",
    "x = my_dummies(df2.drop(['인적사고','기온','시간'],axis=1),'요일', '공휴일여부', '오전오후',  '공공/민간 구분', '날씨',   '공종_대분류',\n",
    "       '공종_중분류', '사고객체_대분류', '사고객체_중분류', '작업프로세스', '장소_대분류', '장소_중분류',\n",
    "       '부위_대분류', '부위_중분류', '사고원인_주원인', '사고신고사유_부상', '사고신고사유_사망', '사고신고사유_물적',\n",
    "       '시', '전체공사비', '해당공종_공사비', '안전관리계획', '설계안전성검토')\n",
    "y = my_labelling(df2[['인적사고']],'인적사고')\n"
   ]
  },
  {
   "cell_type": "code",
   "execution_count": 190,
   "metadata": {},
   "outputs": [
    {
     "data": {
      "text/plain": [
       "(23526, 367)"
      ]
     },
     "execution_count": 190,
     "metadata": {},
     "output_type": "execute_result"
    }
   ],
   "source": [
    "x.shape"
   ]
  },
  {
   "cell_type": "code",
   "execution_count": 191,
   "metadata": {},
   "outputs": [],
   "source": [
    "x['인적사고'] = y"
   ]
  },
  {
   "cell_type": "code",
   "execution_count": 193,
   "metadata": {},
   "outputs": [
    {
     "data": {
      "text/plain": [
       "((18820, 367), (4706, 367), (18820,), (4706,))"
      ]
     },
     "execution_count": 193,
     "metadata": {},
     "output_type": "execute_result"
    }
   ],
   "source": [
    "x_train,x_test,y_train,y_test = my_train_test_split(x,'인적사고')\n",
    "x_train.shape, x_test.shape, y_train.shape, y_test.shape"
   ]
  },
  {
   "cell_type": "code",
   "execution_count": 194,
   "metadata": {},
   "outputs": [],
   "source": [
    "# params = {\n",
    "#     \"n_estimators\": [10, 20, 50, 100],\n",
    "#     \"criterion\": [\"squared_error\", \"absolute_error\", \"friedman_mse\", \"poisson\"],\n",
    "#     \"max_features\": [\"sqrt\", \"log2\"],\n",
    "#     \"max_depth\": [10, 20, 50, None],\n",
    "# }"
   ]
  },
  {
   "cell_type": "markdown",
   "metadata": {},
   "source": [
    "xgb - y 갯수 줄이기 전\n",
    "\n",
    "{'subsample': 1, 'reg_lambda': 7, 'reg_alpha': 1, 'n_estimators': 200, 'min_child_weight': 1, 'max_depth': 6, 'learning_rate': 0.1, 'gamma': 2, 'colsample_bytree': 0.7}\n",
    "\n",
    "[분류분석 성능평가]\n",
    "\n",
    "\n",
    "| | 훈련데이터 |   검증데이터 | 설명                                                      |\n",
    "|--|--|--|--|\n",
    "| 정확도(Accuracy)  |     0.541919 |     0.488936 | 예측 결과(TN,FP,TP,TN)가 실제 결과(TP,TN)와 일치하는 정도 |\n",
    "| 정밀도(Precision) |     0.655207 |     0.420337 | 양성으로 예측한 결과(TP,FP) 중 실제 양성(TP)인 비율       |\n",
    "| 재현율(Recall)    |     0.541919 |     0.335646 | 실제 양성(TP,FN) 중 양성(TP)으로 예측한 비율              |\n",
    "| F1 Score          |     0.409932 |     0.357504 | 정밀도와 재현율의 조화평균                                |\n",
    "| AUC(ovo)          |     0.917224 |     0.868432 | One vs One에 대한 AUC로, 1에 가까울수록 좋은 모델         |\n",
    "| AUC(ovr)          |     0.913331 |     0.860516 | One vs Rest에 대한 AUC로, 1에 가까울수록 좋은 모델        |\n"
   ]
  },
  {
   "cell_type": "markdown",
   "metadata": {},
   "source": [
    "\n",
    "[Best Params]\n",
    "{'subsample': 1, 'reg_lambda': 7, 'reg_alpha': 1, 'n_estimators': 200, 'min_child_weight': 1, 'max_depth': 6, 'learning_rate': 0.1, 'gamma': 2, 'colsample_bytree': 0.7}\n",
    "\n",
    "\n",
    "\n",
    "|                   |   훈련데이터 |   검증데이터 | 설명                                                      |\n",
    "|--|--|--|--|\n",
    "| 정확도(Accuracy)  |     0.545696 |     0.509137 | 예측 결과(TN,FP,TP,TN)가 실제 결과(TP,TN)와 일치하는 정도 |\n",
    "| 정밀도(Precision) |     0.675546 |     0.469469 | 양성으로 예측한 결과(TP,FP) 중 실제 양성(TP)인 비율       |\n",
    "| 재현율(Recall)    |     0.545696 |     0.361035 | 실제 양성(TP,FN) 중 양성(TP)으로 예측한 비율              |\n",
    "| F1 Score          |     0.416669 |     0.381702 | 정밀도와 재현율의 조화평균                                |\n",
    "| AUC(ovo)          |     0.894882 |     0.868483 | One vs One에 대한 AUC로, 1에 가까울수록 좋은 모델         |\n",
    "| AUC(ovr)          |     0.895783 |     0.861934 | One vs Rest에 대한 AUC로, 1에 가까울수록 좋은 모델        |"
   ]
  },
  {
   "cell_type": "code",
   "execution_count": 195,
   "metadata": {},
   "outputs": [],
   "source": [
    "my_xgb_classification(x_train,y_train,x_test,y_test, pr=False,roc=False,hist=False,learning_curve=False)"
   ]
  },
  {
   "cell_type": "code",
   "execution_count": null,
   "metadata": {},
   "outputs": [],
   "source": []
  }
 ],
 "metadata": {
  "kernelspec": {
   "display_name": "Python 3",
   "language": "python",
   "name": "python3"
  },
  "language_info": {
   "codemirror_mode": {
    "name": "ipython",
    "version": 3
   },
   "file_extension": ".py",
   "mimetype": "text/x-python",
   "name": "python",
   "nbconvert_exporter": "python",
   "pygments_lexer": "ipython3",
   "version": "3.11.7"
  }
 },
 "nbformat": 4,
 "nbformat_minor": 2
}
